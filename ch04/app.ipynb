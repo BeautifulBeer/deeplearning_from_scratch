{
 "cells": [
  {
   "cell_type": "code",
   "execution_count": 14,
   "metadata": {},
   "outputs": [],
   "source": [
    "import numpy as np"
   ]
  },
  {
   "cell_type": "code",
   "execution_count": 15,
   "metadata": {},
   "outputs": [],
   "source": [
    "# activation function\n",
    "'''\n",
    "x : any dimension\n",
    "'''\n",
    "def sigmoid(x):\n",
    "    return 1 / (1 + np.exp(-x))\n",
    "\n",
    "'''\n",
    "x : (batch_size, classes_num)\n",
    "\n",
    "return (batch_size, classes_num)\n",
    "'''\n",
    "def softmax(x):\n",
    "    x = np.exp(x)\n",
    "    exp_sum = np.sum(x, axis=1)\n",
    "    if exp_sum.ndim == 1:\n",
    "        exp_sum = exp_sum.reshape(exp_sum.size, 1)\n",
    "    return x / exp_sum\n",
    "\n",
    "# Loss function\n",
    "'''\n",
    "y : (batch_size, classes_num)\n",
    "t : (batch_size, )\n",
    "\n",
    "return scalar\n",
    "'''\n",
    "def cross_entropy(y, t):\n",
    "    epsilon = 1e-7\n",
    "    return - (np.sum(np.log(y[np.arange(len(t)), t] + epsilon)))\n",
    "    \n",
    "# gradient with numerical differential\n",
    "def numerical_gradient(f, x):\n",
    "    h = 1e-4\n",
    "    grad = np.zeros_like(x)\n",
    "    \n",
    "    it = np.nditer(x, flags=['multi_index'], op_flags=['readwrite'])\n",
    "    while not it.finished:\n",
    "        idx = it.multi_index\n",
    "        tmp_val = x[idx]\n",
    "        x[idx] = float(tmp_val) + h\n",
    "        fxh1 = f(x)\n",
    "        \n",
    "        x[idx] = float(tmp_val) - h\n",
    "        fxh2 = f(x)\n",
    "        \n",
    "        grad[idx] = (fxh1 - fxh2) / (2*h)\n",
    "        \n",
    "        x[idx] = tmp_val\n",
    "        it.iternext()\n",
    "    return grad"
   ]
  },
  {
   "cell_type": "code",
   "execution_count": 16,
   "metadata": {},
   "outputs": [],
   "source": [
    "class network:\n",
    "    def __init__(self, intput_size=784, hidden_size=100, output_size=10):\n",
    "        self.params = {}\n",
    "        self.params['W1'] = np.random.rand(input_size, hidden_size)\n",
    "        self.params['W2'] = np.random.rand(hidden_size, output_size)\n",
    "        self.params['b1'] = np.ones(1, hidden_size)\n",
    "        self.params['b2'] = np.ones(1, output_size)\n",
    "    \n",
    "    def forward(self, x):\n",
    "        if x.ndim == 1:\n",
    "            x = x.reshape(1, x.size)\n",
    "        x = np.dot(x, self.params['W1']) + self.params['b1']\n",
    "        x = sigmoid(x)\n",
    "        x = np.dot(x, self.params['W2']) + self.params['b2']\n",
    "        return softmax(x)\n",
    "    \n",
    "    def loss(self, x, t):\n",
    "        y = self.forward(x)\n",
    "        return cross_entropy(y, t)\n",
    "    \n",
    "    def accuracy(self, x, t):\n",
    "        y = self.forward(x)\n",
    "        predicted = np.argmax(y, axis=1)\n",
    "        corrects = (t == predicted).astype(int).sum()\n",
    "        total = x.shape[0]\n",
    "        return corrects / total\n",
    "        \n",
    "    \n",
    "    def numerical_gradient(self, x, t):\n",
    "        loss_W = lambda W: self.loss(x, t)\n",
    "        \n",
    "        grads = {}\n",
    "        grads['W1'] = numerical_gradient(loss_W, self.params['W1'])\n",
    "        grads['b1'] = numerical_gradient(loss_W, self.params['b1'])\n",
    "        grads['W2'] = numerical_gradient(loss_W, self.params['W2'])\n",
    "        grads['b2'] = numerical_gradient(loss_W, self.params['b2'])\n",
    "        \n",
    "        return grads\n",
    "        "
   ]
  },
  {
   "cell_type": "code",
   "execution_count": 22,
   "metadata": {},
   "outputs": [],
   "source": [
    "import os\n",
    "import pandas as pd\n",
    "\n",
    "parent_dir = os.path.dirname(os.path.abspath(os.getcwd()))\n",
    "data_dir = os.path.join(parent_dir, \"digit-recognizer\")\n",
    "\n",
    "df = pd.read_csv(os.path.join(data_dir, \"train.csv\"), dtype=np.int8)"
   ]
  },
  {
   "cell_type": "code",
   "execution_count": null,
   "metadata": {},
   "outputs": [],
   "source": []
  },
  {
   "cell_type": "code",
   "execution_count": null,
   "metadata": {},
   "outputs": [],
   "source": []
  },
  {
   "cell_type": "code",
   "execution_count": null,
   "metadata": {},
   "outputs": [],
   "source": []
  }
 ],
 "metadata": {
  "kernelspec": {
   "display_name": "Python 3",
   "language": "python",
   "name": "python3"
  },
  "language_info": {
   "codemirror_mode": {
    "name": "ipython",
    "version": 3
   },
   "file_extension": ".py",
   "mimetype": "text/x-python",
   "name": "python",
   "nbconvert_exporter": "python",
   "pygments_lexer": "ipython3",
   "version": "3.6.10"
  }
 },
 "nbformat": 4,
 "nbformat_minor": 4
}
